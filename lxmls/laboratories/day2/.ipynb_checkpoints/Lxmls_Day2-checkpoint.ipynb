{
 "cells": [
  {
   "cell_type": "markdown",
   "metadata": {},
   "source": [
    "# LXMLS 2017 - Day 2"
   ]
  },
  {
   "cell_type": "markdown",
   "metadata": {},
   "source": [
    "## Sequence Models"
   ]
  },
  {
   "cell_type": "markdown",
   "metadata": {},
   "source": [
    "In this class, we relax the assumption that the data points are independently and identically distributed (i.i.d.)\n",
    "by moving to a scenario of structured prediction, where the inputs are assumed to have temporal or spacial\n",
    "dependencies. We start by considering sequential models, which correspond to a chain structure: for instance,\n",
    "the words in a sentence. In this lecture, we will use part-of-speech tagging as our example task.\n",
    "We start by defining the notation for this lecture in Section 2.1. Afterwards, in section 2.2, we focus on\n",
    "the well known Hidden Markov Models and in Section 2.3 we describe how to estimate its parameters from\n",
    "labeled data. In Section 2.4 we explain the inference algorithms (Viterbi and Forward-Backward) for sequence\n",
    "models. These inference algorithms will be fundamental for the rest of this lecture, as well as for the next\n",
    "lecture on discriminative training of sequence models. In Section 2.6 we describe the task of Part-of-Speech\n",
    "tagging, and how the Hidden Markov Models are suitable for this task. Finally, in Section 2.7 we address\n",
    "unsupervised learning of Hidden Markov Models through the Expectation Maximization algorithm"
   ]
  },
  {
   "cell_type": "markdown",
   "metadata": {},
   "source": [
    "### 2.2 Hidden Markov Models"
   ]
  },
  {
   "cell_type": "markdown",
   "metadata": {},
   "source": [
    "Hidden Markov Models (HMMs) are one of the most common sequence probabilistic models, and have been\n",
    "applied to a wide variety of tasks. HMMs are particular instances of directed probabilistic graphical models (or\n",
    "Bayesian networks) which have a chain topology. In a Bayesian network, every random variable is represented as a node in a graph, and the edges in the graph are directed and represent probabilistic dependencies between\n",
    "the random variables. For an HMM, the random variables are divided into two sets, the observed variables,\n",
    "X = X1 . . . XN, and the hidden variables Y = Y1 . . . YN. In the HMM terminology, the observed variables are\n",
    "called observations, and the hidden variables are called states. The states are generated according to a first order\n",
    "Markov process, in which the ith state Yi depends only of the previous state Yi−1. Two special states are the\n",
    "start symbol, which starts the sequence, and the stop symbol, which ends the sequence. In addition, states\n",
    "emit observation symbols. In an HMM, it is assumed that all observations are independent given the states\n",
    "that generated them.\n",
    "As you may find out with today’s assignment, implementing the inference routines of the HMM can be\n",
    "challenging. We start with a small and very simple (also very unrealistic!) example. The idea is that you may\n",
    "compute the desired quantities by hand and check if your implementation yields the correct result."
   ]
  },
  {
   "cell_type": "markdown",
   "metadata": {},
   "source": [
    "**Exercise 2.1** Load the simple sequence dataset. From the ipython command line create a simple sequence object and look at the training and test set."
   ]
  },
  {
   "cell_type": "code",
   "execution_count": 9,
   "metadata": {},
   "outputs": [
    {
     "name": "stdout",
     "output_type": "stream",
     "text": [
      "[walk/rainy walk/sunny shop/sunny clean/sunny , walk/rainy walk/rainy shop/rainy clean/sunny , walk/sunny shop/sunny shop/sunny clean/sunny ]\n"
     ]
    }
   ],
   "source": [
    "import sys\n",
    "sys.path.append('../../../')\n",
    "import lxmls.readers.simple_sequence as ssr\n",
    "simple = ssr.SimpleSequence()\n",
    "print simple.train"
   ]
  },
  {
   "cell_type": "code",
   "execution_count": 2,
   "metadata": {},
   "outputs": [
    {
     "name": "stdout",
     "output_type": "stream",
     "text": [
      "[walk/rainy walk/sunny shop/sunny clean/sunny , clean/sunny walk/sunny tennis/sunny walk/sunny ]\n"
     ]
    }
   ],
   "source": [
    "print simple.test"
   ]
  },
  {
   "cell_type": "code",
   "execution_count": 3,
   "metadata": {},
   "outputs": [
    {
     "name": "stdout",
     "output_type": "stream",
     "text": [
      "walk/rainy walk/sunny shop/sunny clean/sunny \n",
      "walk/rainy walk/rainy shop/rainy clean/sunny \n",
      "walk/sunny shop/sunny shop/sunny clean/sunny \n"
     ]
    }
   ],
   "source": [
    "for sequence in simple.train.seq_list:\n",
    "    print sequence"
   ]
  },
  {
   "cell_type": "code",
   "execution_count": 4,
   "metadata": {},
   "outputs": [
    {
     "name": "stdout",
     "output_type": "stream",
     "text": [
      "[0, 0, 1, 2] [0, 1, 1, 1]\n",
      "[0, 0, 1, 2] [0, 0, 0, 1]\n",
      "[0, 1, 1, 2] [1, 1, 1, 1]\n"
     ]
    }
   ],
   "source": [
    "for sequence in simple.train.seq_list:\n",
    "    print sequence.x, sequence.y"
   ]
  },
  {
   "cell_type": "markdown",
   "metadata": {},
   "source": [
    "**Exercise 2.2** The provided function train supervised from the hmm.py file implements the above parameter estimates.\n",
    "Run this function given the simple dataset above and look at the estimated probabilities. Are they correct? You can also\n",
    "check the variables ending in counts instead of probs to see the raw counts (for example, typing hmm.initial counts\n",
    "will show you the raw counts of initial states). How are the counts related to the probabilities?"
   ]
  },
  {
   "cell_type": "code",
   "execution_count": 10,
   "metadata": {
    "collapsed": true
   },
   "outputs": [],
   "source": [
    "def update_counts(self, sequence, state_posteriors, transition_posteriors):\n",
    "    \"\"\" Used in the E-step in EM.\"\"\"\n",
    "\n",
    "    ##########################\n",
    "    # Solution to Exercise 2.2\n",
    "    ##########################\n",
    "\n",
    "    num_states = self.get_num_states()  # Number of states.\n",
    "    length = len(sequence.x)  # Length of the sequence.\n",
    "\n",
    "    # Take care of initial probs\n",
    "    for y in xrange(num_states):\n",
    "        self.initial_counts[y] += state_posteriors[0, y]\n",
    "    for pos in xrange(length):\n",
    "        x = sequence.x[pos]\n",
    "        for y in xrange(num_states):\n",
    "            self.emission_counts[x, y] += state_posteriors[pos, y]\n",
    "            if pos > 0:\n",
    "                for y_prev in xrange(num_states):\n",
    "                    self.transition_counts[y, y_prev] += transition_posteriors[pos-1, y, y_prev]\n",
    "\n",
    "    # Final position\n",
    "    for y in xrange(num_states):\n",
    "        self.final_counts[y] += state_posteriors[length-1, y]\n",
    "\n",
    "    #################################\n",
    "    # End of solution to Exercise 2.2\n",
    "    #################################"
   ]
  },
  {
   "cell_type": "code",
   "execution_count": 11,
   "metadata": {},
   "outputs": [
    {
     "name": "stdout",
     "output_type": "stream",
     "text": [
      "Initial Probabilities: [ 0.66666667  0.33333333]\n"
     ]
    }
   ],
   "source": [
    "import lxmls.sequences.hmm as hmmc\n",
    "hmm = hmmc.HMM(simple.x_dict, simple.y_dict)\n",
    "hmm.train_supervised(simple.train)\n",
    "print \"Initial Probabilities:\", hmm.initial_probs"
   ]
  },
  {
   "cell_type": "code",
   "execution_count": 12,
   "metadata": {},
   "outputs": [
    {
     "name": "stdout",
     "output_type": "stream",
     "text": [
      "Transition Probabilities: [[ 0.5    0.   ]\n",
      " [ 0.5    0.625]]\n"
     ]
    }
   ],
   "source": [
    "print \"Transition Probabilities:\", hmm.transition_probs"
   ]
  },
  {
   "cell_type": "code",
   "execution_count": 13,
   "metadata": {},
   "outputs": [
    {
     "name": "stdout",
     "output_type": "stream",
     "text": [
      "Final Probabilities: [ 0.     0.375]\n"
     ]
    }
   ],
   "source": [
    "print \"Final Probabilities:\", hmm.final_probs"
   ]
  },
  {
   "cell_type": "code",
   "execution_count": 14,
   "metadata": {},
   "outputs": [
    {
     "name": "stdout",
     "output_type": "stream",
     "text": [
      "Emission Probabilities [[ 0.75   0.25 ]\n",
      " [ 0.25   0.375]\n",
      " [ 0.     0.375]\n",
      " [ 0.     0.   ]]\n"
     ]
    }
   ],
   "source": [
    "print \"Emission Probabilities\", hmm.emission_probs"
   ]
  },
  {
   "cell_type": "markdown",
   "metadata": {},
   "source": [
    "**Exercise 2.3** Convince yourself that the score of a path in the trellis (summing over the scores above) is equivalent to the\n",
    "log-probability log P(X = x,Y = y), as defined in Eq. 2.2. Use the given function compute scores on the first training\n",
    "sequence and confirm that the values are correct. You should get the same values as presented below"
   ]
  },
  {
   "cell_type": "markdown",
   "metadata": {},
   "source": [
    "### 2.4.3 Viterbi Decoding"
   ]
  },
  {
   "cell_type": "markdown",
   "metadata": {
    "collapsed": true
   },
   "source": [
    "**Exercise 2.8** Implement a method for performing Viterbi decoding in file sequence classification decoder.py."
   ]
  },
  {
   "cell_type": "code",
   "execution_count": 16,
   "metadata": {
    "collapsed": true
   },
   "outputs": [],
   "source": [
    "def run_viterbi(self, initial_scores, transition_scores, final_scores, emission_scores):\n",
    "\n",
    "    ##########################\n",
    "    # Solution to Exercise 2.8\n",
    "    ##########################\n",
    "    \n",
    "    length = np.size(emission_scores, 0)  # Length of the sequence.\n",
    "    num_states = np.size(initial_scores)  # Number of states.\n",
    "\n",
    "    # Variables storing the Viterbi scores.\n",
    "    viterbi_scores = np.zeros([length, num_states]) + logzero()\n",
    "\n",
    "    # Variables storing the paths to backtrack.\n",
    "    viterbi_paths = -np.ones([length, num_states], dtype=int)\n",
    "\n",
    "    # Most likely sequence.\n",
    "    best_path = -np.ones(length, dtype=int)\n",
    "\n",
    "    # Initialization.\n",
    "    viterbi_scores[0, :] = emission_scores[0, :] + initial_scores\n",
    "\n",
    "    # Viterbi loop.\n",
    "    for pos in xrange(1, length):\n",
    "        for current_state in xrange(num_states):\n",
    "            viterbi_scores[pos, current_state] = \\\n",
    "                np.max(viterbi_scores[pos-1, :] + transition_scores[pos-1, current_state, :])\n",
    "            viterbi_scores[pos, current_state] += emission_scores[pos, current_state]\n",
    "            viterbi_paths[pos, current_state] = \\\n",
    "                np.argmax(viterbi_scores[pos-1, :] + transition_scores[pos-1, current_state, :])\n",
    "    # Termination.\n",
    "    best_score = np.max(viterbi_scores[length-1, :] + final_scores)\n",
    "    best_path[length-1] = np.argmax(viterbi_scores[length-1, :] + final_scores)\n",
    "\n",
    "    # Backtrack.\n",
    "    for pos in xrange(length-2, -1, -1):\n",
    "        best_path[pos] = viterbi_paths[pos+1, best_path[pos+1]]\n",
    "\n",
    "    return best_path, best_score\n",
    "    \n",
    "    #################################\n",
    "    # End of solution to Exercise 2.8\n",
    "    #################################"
   ]
  },
  {
   "cell_type": "code",
   "execution_count": 17,
   "metadata": {},
   "outputs": [
    {
     "name": "stdout",
     "output_type": "stream",
     "text": [
      "Viterbi decoding Prediction test 0 with smoothing\n",
      "walk/rainy walk/rainy shop/sunny clean/sunny  -5.77961500241\n",
      "Truth test 0\n",
      "walk/rainy walk/sunny shop/sunny clean/sunny \n",
      "Viterbi decoding Prediction test 1 with smoothing\n",
      "clean/rainy walk/rainy tennis/rainy walk/rainy  -inf\n",
      "Truth test 1\n",
      "clean/sunny walk/sunny tennis/sunny walk/sunny \n"
     ]
    },
    {
     "name": "stderr",
     "output_type": "stream",
     "text": [
      "../../../lxmls/sequences/hmm.py:194: RuntimeWarning: divide by zero encountered in log\n",
      "  emission_scores[pos, :] = np.log(self.emission_probs[sequence.x[pos], :])\n",
      "../../../lxmls/sequences/hmm.py:192: RuntimeWarning: divide by zero encountered in log\n",
      "  transition_scores = np.zeros([length-1, num_states, num_states]) + logzero()\n",
      "../../../lxmls/sequences/hmm.py:197: RuntimeWarning: divide by zero encountered in log\n",
      "  \n"
     ]
    }
   ],
   "source": [
    "y_pred, score = hmm.viterbi_decode(simple.test.seq_list[0])\n",
    "print \"Viterbi decoding Prediction test 0 with smoothing\"\n",
    "print y_pred, score\n",
    "print \"Truth test 0\"\n",
    "print simple.test.seq_list[0]\n",
    "\n",
    "y_pred, score = hmm.viterbi_decode(simple.test.seq_list[1])\n",
    "print \"Viterbi decoding Prediction test 1 with smoothing\"\n",
    "print y_pred, score\n",
    "print \"Truth test 1\"\n",
    "print simple.test.seq_list[1]"
   ]
  },
  {
   "cell_type": "markdown",
   "metadata": {},
   "source": [
    "**Exercise 2.9** Test the model using both posterior decoding and Viterbi decoding on both the train and test set, using the\n",
    "methods in class HMM:"
   ]
  },
  {
   "cell_type": "code",
   "execution_count": 21,
   "metadata": {},
   "outputs": [
    {
     "data": {
      "image/png": "[encoded data removed]",
      "text/plain": [
       "<matplotlib.figure.Figure at 0x10caeaa50>"
      ]
     },
     "metadata": {},
     "output_type": "display_data"
    },
    {
     "name": "stdout",
     "output_type": "stream",
     "text": [
      "Train Set Accuracy: Posterior Decode 0.985, Viterbi Decode: 0.985\n",
      "Test Set Accuracy: Posterior Decode 0.350, Viterbi Decode: 0.509\n",
      "Smoothing 10.000000 --  Train Set Accuracy: Posterior Decode 0.731, Viterbi Decode: 0.691\n",
      "Smoothing 10.000000 -- Test Set Accuracy: Posterior Decode 0.712, Viterbi Decode: 0.675\n",
      "Smoothing 1.000000 --  Train Set Accuracy: Posterior Decode 0.887, Viterbi Decode: 0.865\n",
      "Smoothing 1.000000 -- Test Set Accuracy: Posterior Decode 0.818, Viterbi Decode: 0.792\n",
      "Smoothing 0.100000 --  Train Set Accuracy: Posterior Decode 0.968, Viterbi Decode: 0.965\n",
      "Smoothing 0.100000 -- Test Set Accuracy: Posterior Decode 0.851, Viterbi Decode: 0.842\n",
      "Smoothing 0.000000 --  Train Set Accuracy: Posterior Decode 0.985, Viterbi Decode: 0.985\n",
      "Smoothing 0.000000 -- Test Set Accuracy: Posterior Decode 0.370, Viterbi Decode: 0.526\n",
      "Best Smoothing 0.100000 --  Test Set Accuracy: Posterior Decode 0.837, Viterbi Decode: 0.827\n"
     ]
    },
    {
     "data": {
      "image/png": "[encoded data removed]",
      "text/plain": [
       "<matplotlib.figure.Figure at 0x109efeed0>"
      ]
     },
     "metadata": {},
     "output_type": "display_data"
    }
   ],
   "source": [
    "import lxmls.readers.pos_corpus as pcc\n",
    "import lxmls.sequences.confusion_matrix as cm\n",
    "\n",
    "corpus = pcc.PostagCorpus()\n",
    "train_seq = corpus.read_sequence_list_conll(\"../../../data/train-02-21.conll\", max_sent_len=15, max_nr_sent=1000)\n",
    "test_seq = corpus.read_sequence_list_conll(\"../../../data/test-23.conll\", max_sent_len=15, max_nr_sent=1000)\n",
    "dev_seq = corpus.read_sequence_list_conll(\"../../../data/dev-22.conll\", max_sent_len=15, max_nr_sent=1000)\n",
    "hmm = hmmc.HMM(corpus.word_dict, corpus.tag_dict)\n",
    "hmm.train_supervised(train_seq)\n",
    "hmm.print_transition_matrix()\n",
    "\n",
    "viterbi_pred_train = hmm.viterbi_decode_corpus(train_seq)\n",
    "posterior_pred_train = hmm.posterior_decode_corpus(train_seq)\n",
    "eval_viterbi_train = hmm.evaluate_corpus(train_seq, viterbi_pred_train)\n",
    "eval_posterior_train = hmm.evaluate_corpus(train_seq, posterior_pred_train)\n",
    "print \"Train Set Accuracy: Posterior Decode %.3f, Viterbi Decode: %.3f\" % (eval_posterior_train, eval_viterbi_train)\n",
    "\n",
    "viterbi_pred_test = hmm.viterbi_decode_corpus(test_seq)\n",
    "posterior_pred_test = hmm.posterior_decode_corpus(test_seq)\n",
    "eval_viterbi_test = hmm.evaluate_corpus(test_seq, viterbi_pred_test)\n",
    "eval_posterior_test = hmm.evaluate_corpus(test_seq, posterior_pred_test)\n",
    "print \"Test Set Accuracy: Posterior Decode %.3f, Viterbi Decode: %.3f\" % (eval_posterior_test, eval_viterbi_test)\n",
    "\n",
    "best_smothing = hmm.pick_best_smoothing(train_seq, dev_seq, [10, 1, 0.1, 0])\n",
    "\n",
    "hmm.train_supervised(train_seq, smoothing=best_smothing)\n",
    "viterbi_pred_test = hmm.viterbi_decode_corpus(test_seq)\n",
    "posterior_pred_test = hmm.posterior_decode_corpus(test_seq)\n",
    "eval_viterbi_test = hmm.evaluate_corpus(test_seq, viterbi_pred_test)\n",
    "eval_posterior_test = hmm.evaluate_corpus(test_seq, posterior_pred_test)\n",
    "print \"Best Smoothing %f --  Test Set Accuracy: Posterior Decode %.3f, Viterbi Decode: %.3f\" % (best_smothing, eval_posterior_test, eval_viterbi_test)\n",
    "\n",
    "confusion_matrix = cm.build_confusion_matrix(test_seq.seq_list, viterbi_pred_test,\n",
    "                                             len(corpus.tag_dict), hmm.get_num_states())\n",
    "\n",
    "cm.plot_confusion_bar_graph(confusion_matrix, corpus.tag_dict,\n",
    "                            range(hmm.get_num_states()), 'Confusion matrix')"
   ]
  },
  {
   "cell_type": "markdown",
   "metadata": {},
   "source": [
    "**Exercise 2.10** Implement the method to update the counts given the state and transition posteriors"
   ]
  },
  {
   "cell_type": "code",
   "execution_count": 22,
   "metadata": {},
   "outputs": [
    {
     "name": "stdout",
     "output_type": "stream",
     "text": [
      "Initial accuracy: 0.308047\n",
      "Iter: 1 Log Likelihood: -101711.222922\n",
      "Iter: 1 Accuracy: 0.305041\n",
      "Iter: 2 Log Likelihood: -78067.928544\n",
      "Iter: 2 Accuracy: 0.288907\n",
      "Iter: 3 Log Likelihood: -77863.834516\n",
      "Iter: 3 Accuracy: 0.306844\n",
      "Iter: 4 Log Likelihood: -77358.612450\n",
      "Iter: 4 Accuracy: 0.285500\n",
      "Iter: 5 Log Likelihood: -76521.324902\n",
      "Iter: 5 Accuracy: 0.285500\n",
      "Iter: 6 Log Likelihood: -75623.481301\n",
      "Iter: 6 Accuracy: 0.297124\n",
      "Iter: 7 Log Likelihood: -74682.105414\n",
      "Iter: 7 Accuracy: 0.285500\n",
      "Iter: 8 Log Likelihood: -73654.899477\n",
      "Iter: 8 Accuracy: 0.290009\n",
      "Iter: 9 Log Likelihood: -72725.996789\n",
      "Iter: 9 Accuracy: 0.294819\n",
      "Iter: 10 Log Likelihood: -71810.800760\n",
      "Iter: 10 Accuracy: 0.301533\n",
      "Iter: 11 Log Likelihood: -70854.130354\n",
      "Iter: 11 Accuracy: 0.304640\n",
      "Iter: 12 Log Likelihood: -69964.634649\n",
      "Iter: 12 Accuracy: 0.304038\n",
      "Iter: 13 Log Likelihood: -69244.099731\n",
      "Iter: 13 Accuracy: 0.309149\n",
      "Iter: 14 Log Likelihood: -68640.504492\n",
      "Iter: 14 Accuracy: 0.311354\n",
      "Iter: 15 Log Likelihood: -68130.478522\n",
      "Iter: 15 Accuracy: 0.310352\n",
      "Iter: 16 Log Likelihood: -67710.110731\n",
      "Iter: 16 Accuracy: 0.312556\n",
      "Iter: 17 Log Likelihood: -67375.515960\n",
      "Iter: 17 Accuracy: 0.312657\n",
      "Iter: 18 Log Likelihood: -67146.894045\n",
      "Iter: 18 Accuracy: 0.311855\n",
      "Iter: 19 Log Likelihood: -67008.535151\n",
      "Iter: 19 Accuracy: 0.313458\n"
     ]
    },
    {
     "data": {
      "image/png": "[encoded data removed]",
      "text/plain": [
       "<matplotlib.figure.Figure at 0x10c8bdcd0>"
      ]
     },
     "metadata": {},
     "output_type": "display_data"
    }
   ],
   "source": [
    "# Train with EM.\n",
    "hmm.train_EM(train_seq, 0.1, 20, evaluate=True)\n",
    "viterbi_pred_test = hmm.viterbi_decode_corpus(test_seq)\n",
    "posterior_pred_test = hmm.posterior_decode_corpus(test_seq)\n",
    "eval_viterbi_test = hmm.evaluate_corpus(test_seq, viterbi_pred_test)\n",
    "eval_posterior_test = hmm.evaluate_corpus(test_seq, posterior_pred_test)\n",
    "\n",
    "confusion_matrix = cm.build_confusion_matrix(test_seq.seq_list, viterbi_pred_test,\n",
    "                                             len(corpus.tag_dict), hmm.get_num_states())\n",
    "cm.plot_confusion_bar_graph(confusion_matrix, corpus.tag_dict,\n",
    "                            xrange(hmm.get_num_states()), 'Confusion matrix')"
   ]
  }
 ],
 "metadata": {
  "kernelspec": {
   "display_name": "Python 2",
   "language": "python",
   "name": "python2"
  },
  "language_info": {
   "codemirror_mode": {
    "name": "ipython",
    "version": 2
   },
   "file_extension": ".py",
   "mimetype": "text/x-python",
   "name": "python",
   "nbconvert_exporter": "python",
   "pygments_lexer": "ipython2",
   "version": "2.7.13"
  }
 },
 "nbformat": 4,
 "nbformat_minor": 2
}
