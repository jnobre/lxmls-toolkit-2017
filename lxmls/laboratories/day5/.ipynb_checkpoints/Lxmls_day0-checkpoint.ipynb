{
 "cells": [
  {
   "cell_type": "markdown",
   "metadata": {},
   "source": [
    "# LXMLS 2017 - Day 0"
   ]
  },
  {
   "cell_type": "markdown",
   "metadata": {},
   "source": [
    "### Basic Tutorials - Numpy, Python"
   ]
  },
  {
   "cell_type": "code",
   "execution_count": 2,
   "metadata": {
    "collapsed": true
   },
   "outputs": [],
   "source": [
    "import numpy as np\n",
    "import math\n",
    "import matplotlib.pyplot as plt\n",
    "\n",
    "\n",
    "# Exercise about gradient descent\n",
    "\n",
    "def get_y(x):\n",
    "    value = pow((x+2), 2) - 16*math.exp(-pow((x-2), 2))\n",
    "    return value\n",
    "\n",
    "\n",
    "def get_grad(x):\n",
    "    return (2*x + 4) - 16*(-2*x + 4)*np.exp(-((x-2)**2))\n",
    "\n",
    "\n",
    "def gradient_descent(start_x, func, grad):\n",
    "    prec = 0.0001\n",
    "    step_size = 0.1\n",
    "    max_iter = 100 # max iterations\n",
    "    x_new = start_x\n",
    "    res = []\n",
    "    for i in xrange(max_iter):\n",
    "        x_old = x_new\n",
    "        x_new = x_old - step_size*grad(x_new)\n",
    "        f_x_new = func(x_new)\n",
    "        f_x_old = func(x_old)\n",
    "        res.append([x_new, f_x_new])\n",
    "        if abs(f_x_new - f_x_old) < prec:\n",
    "            print \"change in function values to small, leaving\"\n",
    "            return np.array(res)\n",
    "    print \"exceeded maximum number of iterations, leaving\"\n",
    "    return np.array(res)\n",
    "\n",
    "\n",
    "def show_optimization_exercise():\n",
    "    x = np.arange(-8, 8, 0.001)\n",
    "    y = map(lambda u: get_y(u), x)\n",
    "    plt.plot(x, y)\n",
    "    x_0 = -8\n",
    "    res = gradient_descent(x_0, get_y, get_grad)\n",
    "    plt.plot(res[:, 0], res[:, 1], '+')\n",
    "    x_0 = 8\n",
    "    res = gradient_descent(x_0, get_y, get_grad)\n",
    "    plt.plot(res[:, 0], res[:, 1], '*')\n",
    "    plt.show()\n"
   ]
  },
  {
   "cell_type": "code",
   "execution_count": null,
   "metadata": {
    "collapsed": true
   },
   "outputs": [],
   "source": []
  }
 ],
 "metadata": {
  "kernelspec": {
   "display_name": "Python 2",
   "language": "python",
   "name": "python2"
  },
  "language_info": {
   "codemirror_mode": {
    "name": "ipython",
    "version": 2
   },
   "file_extension": ".py",
   "mimetype": "text/x-python",
   "name": "python",
   "nbconvert_exporter": "python",
   "pygments_lexer": "ipython2",
   "version": "2.7.13"
  }
 },
 "nbformat": 4,
 "nbformat_minor": 2
}
