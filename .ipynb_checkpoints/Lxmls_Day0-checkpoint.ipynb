{
 "cells": [
  {
   "cell_type": "markdown",
   "metadata": {},
   "source": [
    "# Lsmlx 2017"
   ]
  },
  {
   "cell_type": "markdown",
   "metadata": {},
   "source": [
    "## Day 0"
   ]
  },
  {
   "cell_type": "code",
   "execution_count": 1,
   "metadata": {},
   "outputs": [
    {
     "name": "stdout",
     "output_type": "stream",
     "text": [
      "2\n"
     ]
    }
   ],
   "source": [
    "print 1+1"
   ]
  },
  {
   "cell_type": "code",
   "execution_count": 2,
   "metadata": {},
   "outputs": [
    {
     "name": "stdout",
     "output_type": "stream",
     "text": [
      "['Portugal', 'Spain']\n"
     ]
    }
   ],
   "source": [
    "countries = ['Portugal','Spain','United Kingdom']\n",
    "print countries[:2]"
   ]
  },
  {
   "cell_type": "code",
   "execution_count": 3,
   "metadata": {},
   "outputs": [
    {
     "name": "stdout",
     "output_type": "stream",
     "text": [
      "1\n",
      "2\n",
      "3\n"
     ]
    }
   ],
   "source": [
    "a=1\n",
    "while a <= 3:\n",
    "    print a\n",
    "    a += 1"
   ]
  },
  {
   "cell_type": "code",
   "execution_count": 7,
   "metadata": {
    "collapsed": true
   },
   "outputs": [],
   "source": [
    "def greet(hour):\n",
    "    if hour < 0 or hour > 23:\n",
    "        raise ValueError(\"Invalid input value.\")\n",
    "    if hour < 12:\n",
    "        print 'Good morning!'\n",
    "    elif hour >= 12 and hour < 20:\n",
    "        print 'Good afternoon!'\n",
    "    else:\n",
    "        print 'Good evening!'"
   ]
  },
  {
   "cell_type": "code",
   "execution_count": 11,
   "metadata": {},
   "outputs": [
    {
     "name": "stdout",
     "output_type": "stream",
     "text": [
      "Invalid hour: it should be between 0 and 24.\n"
     ]
    }
   ],
   "source": [
    "greet(-1.4)"
   ]
  },
  {
   "cell_type": "code",
   "execution_count": 2,
   "metadata": {},
   "outputs": [
    {
     "data": {
      "text/plain": [
       "<function normal>"
      ]
     },
     "execution_count": 2,
     "metadata": {},
     "output_type": "execute_result"
    }
   ],
   "source": [
    "import numpy as np\n",
    "np.var\n",
    "np.random.normal"
   ]
  },
  {
   "cell_type": "code",
   "execution_count": 6,
   "metadata": {},
   "outputs": [
    {
     "name": "stdout",
     "output_type": "stream",
     "text": [
      "This works!\n"
     ]
    }
   ],
   "source": [
    "import my_tools\n",
    "my_tools.toString(\"This works!\")"
   ]
  },
  {
   "cell_type": "code",
   "execution_count": 9,
   "metadata": {},
   "outputs": [
    {
     "data": {
      "image/png": "[encoded data removed]",
      "text/plain": [
       "<matplotlib.figure.Figure at 0x10935e150>"
      ]
     },
     "metadata": {},
     "output_type": "display_data"
    }
   ],
   "source": [
    "# This will import the numpy library\n",
    "# and give it the np abbreviation\n",
    "import numpy as np\n",
    "# This will import the plotting library\n",
    "import matplotlib.pyplot as plt\n",
    "# Linspace will return 1000 points,\n",
    "# evenly spaced between -4 and +4\n",
    "X = np.linspace(-4, 4, 1000)\n",
    "# Y[i] = X[i]**2\n",
    "Y = X**2\n",
    "# Plot using a red line ('r')\n",
    "plt.plot(X, Y, 'r')\n",
    "# arange returns integers ranging from -4 to +4\n",
    "# (the upper argument is excluded!)\n",
    "Ints = np.arange(-4,5)\n",
    "# We plot these on top of the previous plot\n",
    "# using blue circles (o means a little circle)\n",
    "plt.plot(Ints, Ints**2, 'bo')\n",
    "# You may notice that the plot is tight around the line\n",
    "# Set the display limits to see better\n",
    "plt.xlim(-5,5)\n",
    "plt.ylim(-1,17)\n",
    "plt.show( )"
   ]
  },
  {
   "cell_type": "code",
   "execution_count": 12,
   "metadata": {
    "scrolled": true
   },
   "outputs": [
    {
     "name": "stdout",
     "output_type": "stream",
     "text": [
      "[1 2 3]\n",
      "[1 2 3]\n",
      "[1 2 4]\n",
      "[2 4]\n",
      "9\n"
     ]
    }
   ],
   "source": [
    "import numpy as np\n",
    "A = np.array([\n",
    "    [1,2,3],\n",
    "    [2,3,4],\n",
    "    [4,5,6]])\n",
    "print A[0,:] # This is [1,2,3]\n",
    "print A[0] # This is [1,2,3] as well\n",
    "print A[:,0] # this is [1,2,4]\n",
    "print A[1:,0] # This is [ 2, 4 ]. Why?\n",
    "# Because it is the same as A[1:n,0] where n is the size of the array.\n",
    "\n",
    "B = np.array([[9,8,7],[6,5,4]])\n",
    "print B[0,0]\n",
    "\n"
   ]
  },
  {
   "cell_type": "code",
   "execution_count": 13,
   "metadata": {},
   "outputs": [
    {
     "data": {
      "text/plain": [
       "[<matplotlib.lines.Line2D at 0x107bfe7d0>]"
      ]
     },
     "execution_count": 13,
     "metadata": {},
     "output_type": "execute_result"
    }
   ],
   "source": [
    "import matplotlib.pyplot as plt\n",
    "import numpy as np\n",
    "X = np.linspace(0, 4 * np.pi, 1000)\n",
    "C = np.cos(X)\n",
    "S = np.sin(X)\n",
    "plt.plot(X, C)\n",
    "plt.plot(X, S)"
   ]
  },
  {
   "cell_type": "code",
   "execution_count": 14,
   "metadata": {},
   "outputs": [
    {
     "name": "stdout",
     "output_type": "stream",
     "text": [
      "49.5\n",
      "49.5\n",
      "1.99996082639\n"
     ]
    }
   ],
   "source": [
    "import numpy as np\n",
    "A = np.arange(100)\n",
    "# These two lines do exactly the same thing\n",
    "print np.mean(A)\n",
    "print A.mean()\n",
    "C = np.cos(A)\n",
    "print C.ptp()"
   ]
  },
  {
   "cell_type": "code",
   "execution_count": 15,
   "metadata": {
    "collapsed": true
   },
   "outputs": [],
   "source": [
    "import numpy as np\n",
    "np.ptp?"
   ]
  },
  {
   "cell_type": "code",
   "execution_count": 18,
   "metadata": {},
   "outputs": [
    {
     "name": "stdout",
     "output_type": "stream",
     "text": [
      "4\n"
     ]
    }
   ],
   "source": [
    "import math\n",
    "import numpy as np\n",
    "\n",
    "np.sum(  )\n",
    "\n",
    "\n",
    "\n",
    "def f( x ):\n",
    "    return pow( x, 2 )\n",
    "\n",
    "print f( 2 )\n"
   ]
  },
  {
   "cell_type": "code",
   "execution_count": 19,
   "metadata": {},
   "outputs": [
    {
     "name": "stdout",
     "output_type": "stream",
     "text": [
      "[[ 0.  0.]\n",
      " [ 0.  0.]\n",
      " [ 0.  0.]]\n"
     ]
    }
   ],
   "source": [
    "import numpy as np\n",
    "m = 3\n",
    "n = 2\n",
    "a = np.zeros([m,n])\n",
    "print a"
   ]
  },
  {
   "cell_type": "code",
   "execution_count": 21,
   "metadata": {},
   "outputs": [
    {
     "name": "stdout",
     "output_type": "stream",
     "text": [
      "(3, 2)\n"
     ]
    }
   ],
   "source": [
    "print a.shape"
   ]
  },
  {
   "cell_type": "code",
   "execution_count": 22,
   "metadata": {},
   "outputs": [
    {
     "name": "stdout",
     "output_type": "stream",
     "text": [
      "float64\n"
     ]
    }
   ],
   "source": [
    "print a.dtype.name"
   ]
  },
  {
   "cell_type": "code",
   "execution_count": 23,
   "metadata": {},
   "outputs": [
    {
     "name": "stdout",
     "output_type": "stream",
     "text": [
      "[[2 3]\n",
      " [3 4]]\n"
     ]
    }
   ],
   "source": [
    "a = np.array([[2,3],[3,4]])\n",
    "print a"
   ]
  },
  {
   "cell_type": "code",
   "execution_count": 26,
   "metadata": {},
   "outputs": [
    {
     "name": "stdout",
     "output_type": "stream",
     "text": [
      "[[ 5.  5.]\n",
      " [ 7.  7.]]\n",
      "[[5 5]\n",
      " [7 7]]\n"
     ]
    }
   ],
   "source": [
    "a = np.array([[2,3],[3,4]])\n",
    "b = np.array([[1,1],[1,1]])\n",
    "a_dim1, a_dim2 = a.shape\n",
    "b_dim1, b_dim2 = b.shape\n",
    "c = np.zeros([a_dim1,b_dim2])\n",
    "for i in xrange(a_dim1):\n",
    "    for j in xrange(b_dim2):\n",
    "        for k in xrange(a_dim2):\n",
    "            c[i,j] += a[i,k]*b[k,j]\n",
    "print c\n",
    "d = np.dot(a,b)\n",
    "print d"
   ]
  },
  {
   "cell_type": "code",
   "execution_count": 27,
   "metadata": {},
   "outputs": [
    {
     "name": "stdout",
     "output_type": "stream",
     "text": [
      "[[ 1.  0.]\n",
      " [ 0.  1.]]\n",
      "[ 2.3  3.4]\n"
     ]
    },
    {
     "data": {
      "text/plain": [
       "[2.3, 3.4]"
      ]
     },
     "execution_count": 27,
     "metadata": {},
     "output_type": "execute_result"
    }
   ],
   "source": [
    "I = np.eye(2)\n",
    "x = np.array([2.3, 3.4])\n",
    "print I\n",
    "print np.dot(I,x)\n",
    "[[ 1., 0.],\n",
    "[ 0., 1.]]\n",
    "[2.3, 3.4]"
   ]
  },
  {
   "cell_type": "code",
   "execution_count": null,
   "metadata": {
    "collapsed": true
   },
   "outputs": [],
   "source": [
    "import galton as galton\n",
    "galton_data = galton.load( )\n",
    "\n"
   ]
  }
 ],
 "metadata": {
  "kernelspec": {
   "display_name": "Python 2",
   "language": "python",
   "name": "python2"
  },
  "language_info": {
   "codemirror_mode": {
    "name": "ipython",
    "version": 2
   },
   "file_extension": ".py",
   "mimetype": "text/x-python",
   "name": "python",
   "nbconvert_exporter": "python",
   "pygments_lexer": "ipython2",
   "version": "2.7.13"
  }
 },
 "nbformat": 4,
 "nbformat_minor": 2
}
